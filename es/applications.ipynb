{
  "cells": [
    {
      "attachments": {
      },
      "cell_type": "markdown",
      "metadata": {
      },
      "source": [
        "## Ejemplos y aplicaciones\n",
        "\n",
        "Durante esta lección, exploraremos algunos ejemplos de algoritmos variacionales y cómo aplicarlos:\n",
        "\n",
        "- Cómo escribir un algoritmo variacional personalizado\n",
        "- Cómo aplicar un algoritmo variacional para encontrar valores propios mínimos\n",
        "- Cómo utilizar algoritmos variacionales para resolver casos de uso de aplicaciones"
      ]
    },
    {
      "attachments": {
      },
      "cell_type": "markdown",
      "metadata": {
      },
      "source": [
        "### Definiciones de problemas\n",
        "\n",
        "Imagine que queremos usar un algoritmo variacional para encontrar el valor propio del siguiente observable:\n",
        "\n",
        "$$\n",
        "\\hat{O}_1 = 2 II - 2 XX + 3 YY - 3 ZZ,\n",
        "$$\n",
        "\n",
        "Este observable tiene los siguientes valores propios:\n",
        "\n",
        "$$\n",
        "\\left\\{\n",
        "\\begin{array}{c}\n",
        "\\lambda_0 = -6 \\\\\n",
        "\\lambda_1 = 4 \\\\\n",
        "\\lambda_2 = 4 \\\\\n",
        "\\lambda_3 = 6\n",
        "\\end{array}\n",
        "\\right\\}\n",
        "$$\n",
        "\n",
        "y estados propios:\n",
        "\n",
        "$$\n",
        "\\left\\{\n",
        "\\begin{array}{c}\n",
        "|\\phi_0\\rangle = \\frac{1}{\\sqrt{2}}(|00\\rangle + |11\\rangle)\\\\\n",
        "|\\phi_1\\rangle = \\frac{1}{\\sqrt{2}}(|00\\rangle - |11\\rangle)\\\\\n",
        "|\\phi_2\\rangle = \\frac{1}{\\sqrt{2}}(|01\\rangle - |10\\rangle)\\\\\n",
        "|\\phi_3\\rangle = \\frac{1}{\\sqrt{2}}(|01\\rangle + |10\\rangle)\n",
        "\\end{array}\n",
        "\\right\\}\n",
        "$$"
      ]
    },
    {
      "cell_type": "code",
      "execution_count": null,
      "metadata": {
      },
      "outputs": [

      ],
      "source": [
        "from qiskit.quantum_info import SparsePauliOp\n",
        "\n",
        "observable = SparsePauliOp.from_list([(\"II\", 2), (\"XX\", -2), (\"YY\", 3), (\"ZZ\", -3)])"
      ]
    },
    {
      "attachments": {
      },
      "cell_type": "markdown",
      "metadata": {
      },
      "source": [
        "## VQE personalizado\n",
        "\n",
        "Primero exploraremos cómo construir una instancia de VQE manualmente para encontrar el valor propio más bajo para $\\hat{O}_1$. Esto incorporará una variedad de técnicas que hemos cubierto a lo largo de este curso. "
      ]
    },
    {
      "cell_type": "code",
      "execution_count": null,
      "metadata": {
      },
      "outputs": [

      ],
      "source": [
        "from qiskit.circuit.library import TwoLocal\n",
        "from qiskit.quantum_info import SparsePauliOp\n",
        "from qiskit import QuantumCircuit\n",
        "from qiskit_ibm_runtime import QiskitRuntimeService, Estimator\n",
        "import numpy as np\n",
        "\n",
        "# Add your token below\n",
        "service = QiskitRuntimeService(\n",
        "    channel=\"ibm_quantum\",\n",
        ")\n",
        "\n",
        "def cost_function_vqe(theta):\n",
        "    observable = SparsePauliOp.from_list([(\"II\", 2), (\"XX\", -2), (\"YY\", 3), (\"ZZ\", -3)])\n",
        "    reference_circuit = QuantumCircuit(2)\n",
        "    reference_circuit.x(0)\n",
        "\n",
        "    variational_form = TwoLocal(\n",
        "        2,\n",
        "        rotation_blocks=[\"rz\", \"ry\"],\n",
        "        entanglement_blocks=\"cx\",\n",
        "        entanglement=\"linear\",\n",
        "        reps=1,\n",
        "    )\n",
        "    ansatz = reference_circuit.compose(variational_form)\n",
        "\n",
        "    backend = service.backend(\"ibmq_qasm_simulator\")\n",
        "    \n",
        "    # Use estimator to get the expected values corresponding to each ansatz\n",
        "    estimator = Estimator(session=backend)\n",
        "    job = estimator.run(ansatz, observable, theta)\n",
        "    values = job.result().values\n",
        "\n",
        "    return values"
      ]
    },
    {
      "attachments": {
      },
      "cell_type": "markdown",
      "metadata": {
      },
      "source": [
        "Podemos usar esta función de costo para calcular parámetros óptimos"
      ]
    },
    {
      "cell_type": "code",
      "execution_count": null,
      "metadata": {
      },
      "outputs": [

      ],
      "source": [
        "from qiskit.algorithms.optimizers import COBYLA\n",
        "\n",
        "initial_theta = np.ones(8)\n",
        "optimizer = COBYLA()\n",
        "\n",
        "optimizer_result = optimizer.minimize(fun=cost_function_vqe, x0=initial_theta)\n",
        "\n",
        "optimal_parameters = optimizer_result.x\n",
        "print(optimal_parameters)"
      ]
    },
    {
      "attachments": {
      },
      "cell_type": "markdown",
      "metadata": {
      },
      "source": [
        "Finalmente, podemos usar nuestros parámetros óptimos para calcular nuestros valores propios mínimos:"
      ]
    },
    {
      "cell_type": "code",
      "execution_count": null,
      "metadata": {
      },
      "outputs": [

      ],
      "source": [
        "observable = SparsePauliOp.from_list([(\"II\", 2), (\"XX\", -2), (\"YY\", 3), (\"ZZ\", -3)])\n",
        "reference_circuit = QuantumCircuit(2)\n",
        "reference_circuit.x(0)\n",
        "\n",
        "variational_form = TwoLocal(\n",
        "    2,\n",
        "    rotation_blocks=[\"rz\", \"ry\"],\n",
        "    entanglement_blocks=\"cx\",\n",
        "    entanglement=\"linear\",\n",
        "    reps=1,\n",
        ")\n",
        "ansatz = reference_circuit.compose(variational_form)\n",
        "solution = ansatz.bind_parameters(optimal_parameters)\n",
        "\n",
        "backend = service.backend(\"ibmq_qasm_simulator\")\n",
        "estimator = Estimator(session=backend)\n",
        "job = estimator.run(solution, observable)\n",
        "values = job.result().values\n",
        "\n",
        "experimental_min_eigenvalue = values[0]\n",
        "print(experimental_min_eigenvalue)"
      ]
    },
    {
      "cell_type": "code",
      "execution_count": null,
      "metadata": {
      },
      "outputs": [

      ],
      "source": [
        "from numpy.linalg import eigvalsh\n",
        "\n",
        "solution_eigenvalue = min(eigvalsh(observable.to_matrix()))\n",
        "print(\n",
        "    f\"Percent error: {abs((experimental_min_eigenvalue - solution_eigenvalue)/solution_eigenvalue):.2e}\"\n",
        ")"
      ]
    },
    {
      "attachments": {
      },
      "cell_type": "markdown",
      "metadata": {
      },
      "source": [
        "Como puede ver, el resultado es extremadamente cercano al ideal. "
      ]
    },
    {
      "attachments": {
      },
      "cell_type": "markdown",
      "metadata": {
      },
      "source": [
        "## Configuración de VQE de Qiskit"
      ]
    },
    {
      "attachments": {
      },
      "cell_type": "markdown",
      "metadata": {
      },
      "source": [
        "Para mayor comodidad, también podemos usar las implementaciones existentes de Qiskit [VQE](https://qiskit.org/documentation/stubs/qiskit.algorithms.minimum_eigensolvers.VQE.html) para encontrar el valor propio más bajo del primer $\\hat{O}_1$ observable y observar todos los resultados de salida.\n",
        "\n",
        "En este caso utilizaremos lo siguiente:\n",
        "\n",
        "- Comenzaremos a explorar el operador de referencia $\\equiv I$ para demostrar los aumentos de velocidad que esto podría proporcionar\n",
        "- [`Estimator`](https://qiskit.org/documentation/stubs/qiskit.primitives.Estimator.html#qiskit.primitives.Estimator) de Qiskit Terra\n",
        "- Optimizador [`SLSQP`](https://qiskit.org/documentation/stubs/qiskit.algorithms.optimizers.SLSQP.html) (es decir, programación secuencial de mínimos cuadrados)\n",
        "- Además, estableceremos el punto inicial para el optimizador `SLSQP` en $\\vec\\theta_0 = (1, \\cdots, 1)$."
      ]
    },
    {
      "cell_type": "code",
      "execution_count": null,
      "metadata": {
      },
      "outputs": [

      ],
      "source": [
        "from qiskit.primitives import Estimator\n",
        "from qiskit.algorithms.optimizers import SLSQP\n",
        "from qiskit.algorithms.minimum_eigensolvers import VQE\n",
        "import numpy as np\n",
        "\n",
        "estimator = Estimator()\n",
        "optimizer = SLSQP()\n",
        "ansatz = TwoLocal(\n",
        "    2,\n",
        "    rotation_blocks=[\"rz\", \"ry\"],\n",
        "    entanglement_blocks=\"cx\",\n",
        "    entanglement=\"linear\",\n",
        "    reps=1,\n",
        ")\n",
        "\n",
        "vqe = VQE(estimator, ansatz, optimizer, initial_point=np.ones(8))"
      ]
    },
    {
      "attachments": {
      },
      "cell_type": "markdown",
      "metadata": {
      },
      "source": [
        "Ahora que hemos inicializado la instancia `VQE` , podemos obtener los resultados con el método [`VQE.compute_minimum_eigenvalue`](https://qiskit.org/documentation/stubs/qiskit.algorithms.minimum_eigensolvers.VQE.compute_minimum_eigenvalue.html#qiskit.algorithms.minimum_eigensolvers.VQE.compute_minimum_eigenvalue) . Veamos los resultados."
      ]
    },
    {
      "cell_type": "code",
      "execution_count": null,
      "metadata": {
      },
      "outputs": [

      ],
      "source": [
        "result = vqe.compute_minimum_eigenvalue(observable)\n",
        "print(result)"
      ]
    },
    {
      "cell_type": "markdown",
      "metadata": {
      },
      "source": [
        "Veamos `optimizer_result` :"
      ]
    },
    {
      "cell_type": "code",
      "execution_count": null,
      "metadata": {
      },
      "outputs": [

      ],
      "source": [
        "print(result.optimizer_result)"
      ]
    },
    {
      "cell_type": "markdown",
      "metadata": {
      },
      "source": [
        "De toda esta información, sin embargo, la parte más importante es el valor propio. Comparémoslo con el valor teórico:"
      ]
    },
    {
      "cell_type": "code",
      "execution_count": null,
      "metadata": {
      },
      "outputs": [

      ],
      "source": [
        "from numpy.linalg import eigvalsh\n",
        "\n",
        "eigenvalues = eigvalsh(observable.to_matrix())\n",
        "min_eigenvalue = eigenvalues[0]\n",
        "\n",
        "print(\"EIGENVALUES:\")\n",
        "print(f\"  - Theoretical: {min_eigenvalue}.\")\n",
        "print(f\"  - VQE: {result.eigenvalue}\")\n",
        "print(\n",
        "    f\"Percent error >> {abs((result.eigenvalue - min_eigenvalue)/min_eigenvalue):.2e}\"\n",
        ")"
      ]
    },
    {
      "attachments": {
      },
      "cell_type": "markdown",
      "metadata": {
      },
      "source": [
        "Como puede ver, el resultado es extremadamente cercano al ideal.\n",
        "\n",
        "Sin embargo, todavía no hemos analizado los estados propios, ya que no formaban parte de `results` . Para este propósito, vinculemos los valores de los parámetros óptimos `result.optimal_parameters` a `results.optimal_circuit` y definamos un [`Statevector`](https://qiskit.org/documentation/stubs/qiskit.quantum_info.Statevector.html) a partir de ese circuito vinculado (es decir, no parametrizado)."
      ]
    },
    {
      "cell_type": "code",
      "execution_count": null,
      "metadata": {
      },
      "outputs": [

      ],
      "source": [
        "from qiskit.quantum_info import Statevector\n",
        "\n",
        "optimal_circuit = result.optimal_circuit.bind_parameters(result.optimal_parameters)\n",
        "optimal_vector = Statevector(optimal_circuit)\n",
        "\n",
        "rounded_optimal_vector = np.round(optimal_vector.data, 3)\n",
        "print(f\"EIGENSTATE: {rounded_optimal_vector}\")"
      ]
    },
    {
      "attachments": {
      },
      "cell_type": "markdown",
      "metadata": {
      },
      "source": [
        "Este resultado no parece demasiado cercano al teórico de $\\frac{1}{\\sqrt{2}}(|00\\rangle + |11\\rangle) \\equiv [\\frac{1}{\\sqrt{2} },0,0,\\frac{1}{\\sqrt{2}}]$. Sin embargo, observe que los vectores propios se definen hasta un factor constante. Además, los estados cuánticos siempre están normalizados y son equivalentes hasta una fase global, por lo que podemos verificar fácilmente que estos dos vectores de estado son equivalentes."
      ]
    },
    {
      "cell_type": "code",
      "execution_count": null,
      "metadata": {
      },
      "outputs": [

      ],
      "source": [
        "from numpy.linalg import eigh\n",
        "\n",
        "_, eigenvectors = eigh(observable.to_matrix())\n",
        "min_eigenvector = eigenvectors.T[0]  # Note: transpose to extract by index\n",
        "\n",
        "optimal_vector.equiv(min_eigenvector, atol=1e-4)"
      ]
    },
    {
      "cell_type": "markdown",
      "metadata": {
      },
      "source": [
        "Podemos concluir que el estado que obtuvimos es equivalente al ideal hasta $10^{-4}$."
      ]
    },
    {
      "cell_type": "markdown",
      "metadata": {
      },
      "source": [
        "### Agregar estado de referencia\n",
        "\n",
        "En el ejemplo anterior no hemos utilizado ningún operador de referencia $U_R$. Ahora pensemos en cómo se puede obtener el estado propio ideal $\\frac{1}{\\sqrt{2}}(|00\\rangle + |11\\rangle)$. Considere el siguiente circuito."
      ]
    },
    {
      "cell_type": "code",
      "execution_count": null,
      "metadata": {
      },
      "outputs": [

      ],
      "source": [
        "from qiskit import QuantumCircuit\n",
        "\n",
        "ideal_qc = QuantumCircuit(2)\n",
        "ideal_qc.h(0)\n",
        "ideal_qc.cx(0, 1)\n",
        "\n",
        "ideal_qc.draw(\"mpl\")"
      ]
    },
    {
      "cell_type": "markdown",
      "metadata": {
      },
      "source": [
        "Rápidamente podemos comprobar que este circuito nos da el estado deseado."
      ]
    },
    {
      "cell_type": "code",
      "execution_count": null,
      "metadata": {
      },
      "outputs": [

      ],
      "source": [
        "Statevector(ideal_qc)"
      ]
    },
    {
      "attachments": {
      },
      "cell_type": "markdown",
      "metadata": {
      },
      "source": [
        "Ahora que hemos visto cómo se ve un circuito que prepara el estado de la solución, parece razonable usar una puerta de Hadamard como circuito de referencia, de modo que el ansatz completo se convierta en:"
      ]
    },
    {
      "cell_type": "code",
      "execution_count": null,
      "metadata": {
      },
      "outputs": [

      ],
      "source": [
        "reference = QuantumCircuit(2)\n",
        "reference.h(0)\n",
        "# Include barrier to separate reference from variational form\n",
        "reference.barrier()\n",
        "\n",
        "ref_ansatz = ansatz.decompose().compose(reference, front=True)\n",
        "\n",
        "ref_ansatz.draw(\"mpl\")"
      ]
    },
    {
      "cell_type": "markdown",
      "metadata": {
      },
      "source": [
        "Para este nuevo circuito, la solución ideal podría alcanzarse con todos los parámetros configurados en $0$, por lo que esto confirma que la elección del circuito de referencia es razonable.\n",
        "\n",
        "Ahora comparemos el número de evaluaciones de la función de costo, las iteraciones del optimizador y el tiempo empleado con los del intento anterior."
      ]
    },
    {
      "cell_type": "code",
      "execution_count": null,
      "metadata": {
      },
      "outputs": [

      ],
      "source": [
        "num_evaluations = result.cost_function_evals\n",
        "num_iterations = result.optimizer_result.nit\n",
        "time = result.optimizer_time\n",
        "\n",
        "print(\"NO REFERENCE STATE:\")\n",
        "print(f\"  - Number of evaluations: {num_evaluations}\")\n",
        "print(f\"  - Number of iterations: {num_iterations}\")\n",
        "print(f\"  - Time: {time:.5f} seconds\")"
      ]
    },
    {
      "cell_type": "code",
      "execution_count": null,
      "metadata": {
      },
      "outputs": [

      ],
      "source": [
        "# You can change the ansatz of the already defined vqe object instead of creating a new one\n",
        "vqe.ansatz = ref_ansatz\n",
        "\n",
        "ref_result = vqe.compute_minimum_eigenvalue(observable)"
      ]
    },
    {
      "cell_type": "code",
      "execution_count": null,
      "metadata": {
      },
      "outputs": [

      ],
      "source": [
        "num_evaluations_ref = ref_result.cost_function_evals\n",
        "num_iterations_ref = ref_result.optimizer_result.nit\n",
        "time_ref = ref_result.optimizer_time\n",
        "\n",
        "print(\"ADDED REFERENCE STATE:\")\n",
        "print(f\"  - Number of evaluations: {num_evaluations_ref}\")\n",
        "print(f\"  - Number of iterations: {num_iterations_ref}\")\n",
        "print(f\"  - Time: {time_ref:.5f} seconds\")\n",
        "print()\n",
        "\n",
        "if num_evaluations_ref < num_evaluations:\n",
        "    print(\">> Number of cost function evaluations improved\")\n",
        "elif num_evaluations_ref > num_evaluations:\n",
        "    print(\">> Number of cost function evaluations worsened\")\n",
        "if num_iterations_ref < num_iterations:\n",
        "    print(\">> Number of iterations improved\")\n",
        "elif num_iterations_ref > num_iterations:\n",
        "    print(\">> Number of iterations worsened\")\n",
        "if time_ref < time:\n",
        "    print(\">> Time improved\")\n",
        "elif time_ref > time:\n",
        "    print(\">> Time worsened\")"
      ]
    },
    {
      "cell_type": "markdown",
      "metadata": {
      },
      "source": [
        "### Cambiar punto inicial"
      ]
    },
    {
      "cell_type": "markdown",
      "metadata": {
      },
      "source": [
        "Ahora que hemos visto el efecto de agregar el estado de referencia, veremos qué sucede cuando elegimos diferentes puntos iniciales $\\vec{\\theta_0}$. En particular usaremos $\\vec{\\theta_0}=(0,0,0,0,6,0,0,0)$ y $\\vec{\\theta_0}=(6,6,6,6,6 ,6,6,6,6)$. Recuerde que, como se discutió cuando se introdujo el estado de referencia, la solución ideal se encontraría cuando todos los parámetros son $0$, por lo que el primer punto inicial debería dar menos evaluaciones, iteraciones y tiempo."
      ]
    },
    {
      "cell_type": "code",
      "execution_count": null,
      "metadata": {
      },
      "outputs": [

      ],
      "source": [
        "vqe.initial_point = [0, 0, 0, 0, 6, 0, 0, 0]\n",
        "\n",
        "result = vqe.compute_minimum_eigenvalue(observable)\n",
        "\n",
        "num_evaluations = result.cost_function_evals\n",
        "num_iterations = result.optimizer_result.nit\n",
        "time = result.optimizer_time\n",
        "\n",
        "print(f\"INITIAL POINT: {vqe.initial_point}\")\n",
        "print(f\"  - Number of evaluations: {num_evaluations}\")\n",
        "print(f\"  - Number of iterations: {num_iterations}\")\n",
        "print(f\"  - Time: {time:.5f} seconds\")"
      ]
    },
    {
      "cell_type": "code",
      "execution_count": null,
      "metadata": {
      },
      "outputs": [

      ],
      "source": [
        "vqe.initial_point = 6 * np.ones(8)\n",
        "\n",
        "result = vqe.compute_minimum_eigenvalue(observable)\n",
        "\n",
        "num_evaluations = result.cost_function_evals\n",
        "num_iterations = result.optimizer_result.nit\n",
        "time = result.optimizer_time\n",
        "\n",
        "print(f\"INITIAL POINT: {vqe.initial_point}\")\n",
        "print(f\"  - Number of evaluations: {num_evaluations}\")\n",
        "print(f\"  - Number of iterations: {num_iterations}\")\n",
        "print(f\"  - Time: {time:.5f} seconds\")"
      ]
    },
    {
      "cell_type": "markdown",
      "metadata": {
      },
      "source": [
        "## ejemplo VQD"
      ]
    },
    {
      "attachments": {
      },
      "cell_type": "markdown",
      "metadata": {
      },
      "source": [
        "Ahora, en lugar de buscar solo el valor propio más bajo de nuestros observables, buscaremos todos los $4$. Siguiendo la notación del capítulo anterior (así como la de la clase [VQD](https://qiskit.org/documentation/stubs/qiskit.algorithms.eigensolvers.VQD.html) de Qiskit), eso significa $k=4$.\n",
        "\n",
        "Recuerde que las funciones de costo de VQD son:\n",
        "\n",
        "$$\n",
        "C_{l}(\\vec{\\theta}) := \n",
        "\\langle \\psi(\\vec{\\theta}) | \\hat{H} | \\psi(\\vec{\\theta})\\rangle + \n",
        "\\sum_{j=0}^{l-1}\\beta_j |\\langle \\psi(\\vec{\\theta})| \\psi(\\vec{\\theta^j})\\rangle  |^2 \n",
        "\\quad \\forall l\\in\\{1,\\cdots,k\\}=\\{1,\\cdots,4\\}\n",
        "$$\n",
        "\n",
        "Esto es particularmente importante porque un vector $\\vec{\\beta}=(\\beta_0,\\cdots,\\beta_{k-1})$ (en este caso $(\\beta_0, \\beta_1, \\beta_2, \\beta_3)$ ) debe pasarse como argumento cuando definimos el objeto `VQD` .\n",
        "\n",
        "Además, en la implementación de Qiskit de VQD, en lugar de considerar los observables efectivos descritos en el cuaderno anterior, las fidelidades $|\\langle \\psi(\\vec{\\theta})| \\psi(\\vec{\\theta^j})\\rangle |^2$ se calculan directamente a través del algoritmo [`ComputeUncompute`](https://qiskit.org/documentation/stubs/qiskit.algorithms.state_fidelities.ComputeUncompute.html) , que aprovecha una primitiva `Sampler` para muestrear la probabilidad de obtener $|0\\rangle$ para el circuito $U_A^\\ daga(\\vec{\\theta})U_A(\\vec{\\theta^j})$. Esto funciona precisamente porque esta probabilidad es\n",
        "\n",
        "$$\n",
        "\\begin{aligned}\n",
        "\n",
        "p_0\n",
        "\n",
        "& = |\\langle 0|U_A^\\dagger(\\vec{\\theta})U_A(\\vec{\\theta^j})|0\\rangle|^2 \\\\[1mm]\n",
        "\n",
        "& = |\\big(\\langle 0|U_A^\\dagger(\\vec{\\theta})\\big)\\big(U_A(\\vec{\\theta^j})|0\\rangle\\big)|^2 \\\\[1mm]\n",
        "\n",
        "& = |\\langle \\psi(\\vec{\\theta}) |\\psi(\\vec{\\theta^j}) \\rangle|^2 \\\\[1mm]\n",
        "\n",
        "\\end{aligned}\n",
        "$$\n",
        "\n",
        "Finalmente, para probar un nuevo optimizador, usemos [`COBYLA`](https://qiskit.org/documentation/stubs/qiskit.algorithms.optimizers.COBYLA.html) en lugar de `SLSQP` ."
      ]
    },
    {
      "cell_type": "code",
      "execution_count": null,
      "metadata": {
      },
      "outputs": [

      ],
      "source": [
        "from qiskit.primitives import Sampler\n",
        "from qiskit.algorithms.optimizers import COBYLA\n",
        "from qiskit.algorithms.state_fidelities import ComputeUncompute\n",
        "from qiskit.algorithms.eigensolvers import VQD\n",
        "\n",
        "optimizer = COBYLA()\n",
        "sampler = Sampler()\n",
        "estimator = Estimator()\n",
        "fidelity = ComputeUncompute(sampler)\n",
        "\n",
        "k = 4\n",
        "betas = [40, 60, 30, 30]\n",
        "\n",
        "vqd = VQD(estimator, fidelity, ansatz, optimizer, k=k, betas=betas)"
      ]
    },
    {
      "attachments": {
      },
      "cell_type": "markdown",
      "metadata": {
      },
      "source": [
        "Como la única diferencia de API con los ejemplos anteriores, observe que en lugar de llamar al método `VQE.compute_minimum_eigenvalue` , llamaremos a [`VQD.compute_eigenvalues`](https://qiskit.org/documentation/stubs/qiskit.algorithms.eigensolvers.VQD.compute_eigenvalues.html) ​​. Comencemos examinando el siguiente observable:\n",
        "\n",
        "$$\n",
        "\\hat{O}_2 := 2 II - 3 XX + 2 YY - 4 ZZ\n",
        "$$\n",
        "\n",
        "Este observable tiene los siguientes valores propios:\n",
        "\n",
        "$$\n",
        "\\left\\{\n",
        "\\begin{array}{c}\n",
        "\\lambda_0 = -7 \\\\\n",
        "\\lambda_1 = 3\\\\\n",
        "\\lambda_2 = 5 \\\\\n",
        "\\lambda_3 = 7\n",
        "\\end{array}\n",
        "\\right\\}\n",
        "$$\n",
        "\n",
        "y estados propios:\n",
        "\n",
        "$$\n",
        "\\left\\{\n",
        "\\begin{array}{c}\n",
        "|\\phi_0\\rangle = \\frac{1}{\\sqrt{2}}(|00\\rangle + |11\\rangle)\\\\\n",
        "|\\phi_1\\rangle = \\frac{1}{\\sqrt{2}}(|00\\rangle - |11\\rangle)\\\\\n",
        "|\\phi_2\\rangle = \\frac{1}{\\sqrt{2}}(|01\\rangle + |10\\rangle)\\\\\n",
        "|\\phi_3\\rangle = \\frac{1}{\\sqrt{2}}(|01\\rangle - |10\\rangle)\n",
        "\\end{array}\n",
        "\\right\\}\n",
        "$$"
      ]
    },
    {
      "cell_type": "code",
      "execution_count": null,
      "metadata": {
      },
      "outputs": [

      ],
      "source": [
        "observable_2 = SparsePauliOp.from_list([(\"II\", 2), (\"XX\", -3), (\"YY\", 2), (\"ZZ\", -4)])\n",
        "\n",
        "result = vqd.compute_eigenvalues(observable_2)\n",
        "print(result)"
      ]
    },
    {
      "cell_type": "markdown",
      "metadata": {
      },
      "source": [
        "El [`VQDResult`](https://qiskit.org/documentation/stubs/qiskit.algorithms.eigensolvers.VQDResult.html) que obtenemos es completamente análogo al `VQEResult` . Sólo se diferencia en que cada atributo es una lista cuyo $i$-ésimo elemento corresponde al $i$-ésimo valor propio."
      ]
    },
    {
      "cell_type": "markdown",
      "metadata": {
      },
      "source": [
        "Ahora que hemos visto los valores propios, comparemos los vectores propios experimentales con los teóricos:"
      ]
    },
    {
      "cell_type": "code",
      "execution_count": null,
      "metadata": {
      },
      "outputs": [

      ],
      "source": [
        "optimal_circuits = [\n",
        "    circuit.bind_parameters(parameters)\n",
        "    for circuit, parameters in zip(result.optimal_circuits, result.optimal_parameters)\n",
        "]\n",
        "eigenstates = [Statevector(c) for c in optimal_circuits]\n",
        "\n",
        "for i, (eigenvalue, eigenstate) in enumerate(zip(result.eigenvalues, eigenstates)):\n",
        "    eigenvalue = eigenvalue.real\n",
        "    eigenstate = np.round(eigenstate.data, 3).tolist()\n",
        "    print(f\"RESULT {i}:\")\n",
        "    print(f\"  - {eigenvalue = :.3f}\")\n",
        "    print(f\"  - {eigenstate = }\")"
      ]
    },
    {
      "cell_type": "markdown",
      "metadata": {
      },
      "source": [
        "Estos resultados son los mismos que los esperados excepto por un pequeño error de aproximación y fase global."
      ]
    },
    {
      "attachments": {
      },
      "cell_type": "markdown",
      "metadata": {
      },
      "source": [
        "Ahora resolvamos este problema para el primer $\\hat{O}_1 := 2 II - 2 XX + 3 YY - 3 ZZ$ observable."
      ]
    },
    {
      "cell_type": "code",
      "execution_count": null,
      "metadata": {
      },
      "outputs": [

      ],
      "source": [
        "result = vqd.compute_eigenvalues(observable)\n",
        "\n",
        "optimal_circuits = [\n",
        "    circuit.bind_parameters(parameters)\n",
        "    for circuit, parameters in zip(result.optimal_circuits, result.optimal_parameters)\n",
        "]\n",
        "eigenstates = [Statevector(c) for c in optimal_circuits]\n",
        "\n",
        "for i, (eigenvalue, eigenstate) in enumerate(zip(result.eigenvalues, eigenstates)):\n",
        "    eigenvalue = eigenvalue.real\n",
        "    eigenstate = np.round(eigenstate.data, 3).tolist()\n",
        "    print(f\"RESULT {i}:\")\n",
        "    print(f\"  - {eigenvalue = :.3f}\")\n",
        "    print(f\"  - {eigenstate = }\")"
      ]
    },
    {
      "attachments": {
      },
      "cell_type": "markdown",
      "metadata": {
      },
      "source": [
        "Aquí los estados propios correspondientes a $\\lambda_1 = \\lambda_2 = 4$ no son los mismos que los esperados:\n",
        "\n",
        "$$\n",
        "|\\phi_1\\rangle = \\frac{1}{\\sqrt{2}}(|00\\rangle - |11\\rangle) \\\\\n",
        "|\\phi_2\\rangle = \\frac{1}{\\sqrt{2}}(|01\\rangle + |10\\rangle)\n",
        "$$\n",
        "\n",
        "Esto sucede precisamente porque como $\\lambda_1=\\lambda_2$, cualquier combinación lineal compleja también es un estado propio con el mismo valor propio:\n",
        "\n",
        "$$\n",
        "\\begin{aligned}\n",
        "\\alpha_1 |\\phi_1\\rangle + \\alpha_2 |\\phi_2\\rangle\n",
        "& = \\frac{1}{\\sqrt{2}}(\\alpha_1 |00\\rangle + \\alpha_2 |01\\rangle - \\alpha_2 |10\\rangle - \\alpha_1 |11\\rangle) \\\\[1mm]\n",
        "& \\equiv \\frac{1}{\\sqrt{2}}[\\alpha_1, \\alpha_2, -\\alpha_2, -\\alpha_1]\n",
        "\\end{aligned}\n",
        "$$\n",
        "\n",
        "Eso es exactamente lo que estamos viendo con estos resultados."
      ]
    },
    {
      "attachments": {
      },
      "cell_type": "markdown",
      "metadata": {
      },
      "source": [
        "### Cambiar versiones beta"
      ]
    },
    {
      "attachments": {
      },
      "cell_type": "markdown",
      "metadata": {
      },
      "source": [
        "Como se mencionó en la lección de instancias, los valores de $\\vec{\\beta}$ deberían ser mayores que la diferencia entre los valores propios. Veamos qué pasa cuando no cumplen esa condición con $\\hat{O}_2$\n",
        "\n",
        "$$\n",
        "\\hat{O}_2 = 2 II - 3 XX + 2 YY - 4 ZZ\n",
        "$$\n",
        "\n",
        "con valores propios\n",
        "\n",
        "$$\n",
        "\\left\\{\n",
        "\\begin{array}{c}\n",
        "\\lambda_0 = -7 \\\\\n",
        "\\lambda_1 = 3\\\\\n",
        "\\lambda_2 = 5 \\\\\n",
        "\\lambda_3 = 7\n",
        "\\end{array}\n",
        "\\right\\}\n",
        "$$"
      ]
    },
    {
      "cell_type": "code",
      "execution_count": null,
      "metadata": {
      },
      "outputs": [

      ],
      "source": [
        "vqd.betas = np.ones(4)\n",
        "result = vqd.compute_eigenvalues(observable_2)\n",
        "\n",
        "optimal_circuits = [\n",
        "    circuit.bind_parameters(parameters)\n",
        "    for circuit, parameters in zip(result.optimal_circuits, result.optimal_parameters)\n",
        "]\n",
        "eigenstates = [Statevector(c) for c in optimal_circuits]\n",
        "\n",
        "for i, (eigenvalue, eigenstate) in enumerate(zip(result.eigenvalues, eigenstates)):\n",
        "    eigenvalue = eigenvalue.real\n",
        "    eigenstate = np.round(eigenstate.data, 3).tolist()\n",
        "    print(f\"RESULT {i}:\")\n",
        "    print(f\"  - {eigenvalue = :.3f}\")\n",
        "    print(f\"  - {eigenstate = }\")"
      ]
    },
    {
      "attachments": {
      },
      "cell_type": "markdown",
      "metadata": {
      },
      "source": [
        "Esta vez, el optimizador devuelve el mismo estado $|\\phi_0\\rangle = \\frac{1}{\\sqrt{2}}(|00\\rangle + |11\\rangle)$ como una solución propuesta para todos los estados propios: que es claramente equivocado Esto sucede porque las betas eran demasiado pequeñas para penalizar el estado propio mínimo en las sucesivas funciones de costo. Por lo tanto, no se excluyó del espacio de búsqueda efectivo en iteraciones posteriores del algoritmo, y siempre se eligió como la mejor solución posible.\n",
        "\n",
        "Recomendamos experimentar con los valores de $\\vec{\\beta}$ y asegurarse de que sean mayores que la diferencia entre los valores propios. "
      ]
    },
    {
      "attachments": {
      },
      "cell_type": "markdown",
      "metadata": {
      },
      "source": [
        "## Química cuántica: Solucionador de estado fundamental y energía excitada\n",
        "\n",
        "Nuestro objetivo es minimizar el valor esperado de la energía representativa observable (Hamiltoniana $\\hat{\\mathcal{H}}$):\n",
        "\n",
        "$$\n",
        "\\min_{\\vec\\theta} \\langle\\psi(\\vec\\theta)|\\hat{\\mathcal{H}}|\\psi(\\vec\\theta)\\rangle\n",
        "$$"
      ]
    },
    {
      "cell_type": "code",
      "execution_count": null,
      "metadata": {
      },
      "outputs": [

      ],
      "source": [
        "from qiskit_nature.units import DistanceUnit\n",
        "from qiskit_nature.second_q.drivers import PySCFDriver\n",
        "from qiskit_nature.second_q.circuit.library import HartreeFock, UCC\n",
        "from qiskit_nature.second_q.mappers import JordanWignerMapper\n",
        "from qiskit.quantum_info import SparsePauliOp\n",
        "\n",
        "H2_op = SparsePauliOp.from_list(\n",
        "    [\n",
        "        (\"II\", -1.052373245772859),\n",
        "        (\"IZ\", 0.39793742484318045),\n",
        "        (\"ZI\", -0.39793742484318045),\n",
        "        (\"ZZ\", -0.01128010425623538),\n",
        "        (\"XX\", 0.18093119978423156),\n",
        "    ]\n",
        ")\n",
        "\n",
        "driver = PySCFDriver(\n",
        "    atom=\"H 0 0 0; H 0 0 0.735\",\n",
        "    basis=\"sto3g\",\n",
        "    charge=0,\n",
        "    spin=0,\n",
        "    unit=DistanceUnit.ANGSTROM,\n",
        ")\n",
        "\n",
        "h2_problem = driver.run()\n",
        "\n",
        "mapper = JordanWignerMapper()\n",
        "\n",
        "h2_reference_state = HartreeFock(\n",
        "    num_spatial_orbitals=h2_problem.num_spatial_orbitals,\n",
        "    num_particles=h2_problem.num_particles,\n",
        "    qubit_mapper=mapper,\n",
        ")\n",
        "\n",
        "ansatz = UCC(\n",
        "    num_spatial_orbitals=h2_problem.num_spatial_orbitals,\n",
        "    num_particles=h2_problem.num_particles,\n",
        "    qubit_mapper=mapper,\n",
        "    initial_state=h2_reference_state,\n",
        "    excitations=2,\n",
        ")\n",
        "\n",
        "ansatz.decompose().decompose().draw(\"mpl\")"
      ]
    },
    {
      "cell_type": "code",
      "execution_count": null,
      "metadata": {
      },
      "outputs": [

      ],
      "source": [
        "from qiskit.algorithms.minimum_eigensolvers import VQE\n",
        "from qiskit.primitives import Sampler, Estimator\n",
        "from qiskit.algorithms.state_fidelities import ComputeUncompute\n",
        "from qiskit_nature.second_q.algorithms import GroundStateEigensolver\n",
        "\n",
        "estimator = Estimator()\n",
        "sampler = Sampler()\n",
        "fidelity = ComputeUncompute(sampler)\n",
        "\n",
        "vqe = VQE(\n",
        "    estimator=estimator,\n",
        "    ansatz=ansatz,\n",
        "    optimizer=optimizer,\n",
        "    initial_point=np.zeros(ansatz.num_parameters),\n",
        ")\n",
        "gse = GroundStateEigensolver(qubit_mapper=mapper, solver=vqe)\n",
        "result = gse.solve(h2_problem)\n",
        "\n",
        "print(result)"
      ]
    },
    {
      "attachments": {
      },
      "cell_type": "markdown",
      "metadata": {
      },
      "source": [
        "También podemos aprovechar VQD para resolver los estados excitados"
      ]
    },
    {
      "cell_type": "code",
      "execution_count": null,
      "metadata": {
      },
      "outputs": [

      ],
      "source": [
        "from qiskit.algorithms.eigensolvers import VQD\n",
        "\n",
        "h2_operators, _ = gse.get_qubit_operators(h2_problem)\n",
        "\n",
        "optimizer = COBYLA()\n",
        "sampler = Sampler()\n",
        "estimator = Estimator()\n",
        "fidelity = ComputeUncompute(sampler)\n",
        "\n",
        "k = 3\n",
        "betas = [33, 33, 33]\n",
        "\n",
        "vqd = VQD(\n",
        "    estimator=estimator,\n",
        "    ansatz=ansatz,\n",
        "    optimizer=optimizer,\n",
        "    fidelity=fidelity,\n",
        "    initial_point=np.zeros(ansatz.num_parameters),\n",
        "    k=k,\n",
        "    betas=betas,\n",
        ")\n",
        "result = vqd.compute_eigenvalues(operator=h2_operators)\n",
        "vqd_values = result.optimal_values\n",
        "print(vqd_values)"
      ]
    },
    {
      "attachments": {
      },
      "cell_type": "markdown",
      "metadata": {
      },
      "source": [
        "## Optimización: Max-Cut\n",
        "\n",
        "El problema de corte máximo (Max-Cut) es un problema de optimización combinatoria que consiste en dividir los vértices de un gráfico en dos conjuntos disjuntos de modo que se maximice el número de aristas entre los dos conjuntos. Más formalmente, dado un gráfico no dirigido $G=(V,E)$, donde $V$ es el conjunto de vértices y $E$ es el conjunto de aristas, el problema Max-Cut pide dividir los vértices en dos subconjuntos disjuntos , $S$ y $T$, tal que se maximiza el número de aristas con un extremo en $S$ y el otro en $T$.\n",
        "\n",
        "Podemos aplicar Max-Cut para resolver varios problemas, incluidos: agrupamiento, diseño de redes, transiciones de fase, etc. Comenzaremos creando un gráfico de problemas:"
      ]
    },
    {
      "cell_type": "code",
      "execution_count": null,
      "metadata": {
      },
      "outputs": [

      ],
      "source": [
        "import networkx as nx\n",
        "\n",
        "n = 4\n",
        "G = nx.Graph()\n",
        "G.add_nodes_from(range(n))\n",
        "edge_list = [(0, 1, 1.0), (0, 2, 1.0), (0, 3, 1.0), (1, 2, 1.0), (2, 3, 1.0)]\n",
        "G.add_weighted_edges_from(edge_list)\n",
        "\n",
        "colors = [\"red\" for i in range(n)]\n",
        "\n",
        "\n",
        "def draw_graph(G, colors):\n",
        "    \"\"\"Draws the graph with the chose colors\"\"\"\n",
        "    layout = nx.shell_layout(G)\n",
        "    nx.draw_networkx(G, node_color=colors, pos=layout)\n",
        "    edge_labels = nx.get_edge_attributes(G, \"weight\")\n",
        "    nx.draw_networkx_edge_labels(G, pos=layout, edge_labels=edge_labels)\n",
        "\n",
        "\n",
        "draw_graph(G, colors)"
      ]
    },
    {
      "attachments": {
      },
      "cell_type": "markdown",
      "metadata": {
      },
      "source": [
        "Para acceder cómodamente a los pesos de todas las aristas, puedes utilizar la matriz de adyacencia. Esta matriz se puede obtener con [networkx.to_numpy_array()](https://networkx.org/documentation/stable/reference/generated/networkx.convert_matrix.to_numpy_array.html) ."
      ]
    },
    {
      "cell_type": "code",
      "execution_count": null,
      "metadata": {
      },
      "outputs": [

      ],
      "source": [
        "w = nx.to_numpy_array(G)\n",
        "print(w)"
      ]
    },
    {
      "attachments": {
      },
      "cell_type": "markdown",
      "metadata": {
      },
      "source": [
        "El módulo [`qiskit_optimization`](https://qiskit.org/documentation/optimization/index.html) incluye una clase llamada [`Maxcut`](https://qiskit.org/documentation/optimization/stubs/qiskit_optimization.applications.Maxcut.html) que le permite definir un problema Max-Cut ponderado a partir de la matriz de adyacencia $w$. A partir de ese problema podemos obtener el problema de optimización binaria equivalente que deducimos en la sección anterior con [`Maxcut.to_quadratic_program()`](https://qiskit.org/documentation/optimization/stubs/qiskit_optimization.applications.Maxcut.to_quadratic_program.html)"
      ]
    },
    {
      "cell_type": "code",
      "execution_count": null,
      "metadata": {
      },
      "outputs": [

      ],
      "source": [
        "from qiskit_optimization.applications import Maxcut\n",
        "\n",
        "max_cut = Maxcut(w)\n",
        "\n",
        "quadratic_program = max_cut.to_quadratic_program()\n",
        "print(quadratic_program.prettyprint())"
      ]
    },
    {
      "attachments": {
      },
      "cell_type": "markdown",
      "metadata": {
      },
      "source": [
        "Este problema se puede expresar como un problema de optimización binaria. Para cada nodo $0 \\leq i &lt; n$, donde $n$ es el número de nodos del grafo (en este caso $n=4$), consideraremos la variable binaria $x_i$. Esta variable tendrá el valor $1$ si el nodo $i$ es uno de los grupos que etiquetaremos como $1$ y $0$ si está en el otro grupo, que etiquetaremos como $0$. También denotaremos como $w_{ij}$ (elemento $(i,j)$ de la matriz de adyacencia $w$) el peso de la arista que va del nodo $i$ al nodo $j$. Como el gráfico no está dirigido, $w_{ij}=w_{ji}$. Entonces podemos formular nuestro problema como maximizando la siguiente función de costo:\n",
        "\n",
        "$$\n",
        "\\begin{aligned}\n",
        "C(\\vec{x})\n",
        "& =\\sum_{i,j=0}^n w_{ij} x_i(1-x_j)\\\\[1mm]\n",
        "\n",
        "& = \\sum_{i,j=0}^n w_{ij} x_i - \\sum_{i,j=0}^n w_{ij} x_ix_j\\\\[1mm]\n",
        "\n",
        "& = \\sum_{i,j=0}^n w_{ij} x_i - \\sum_{i=0}^n \\sum_{j=0}^i 2w_{ij} x_ix_j\n",
        "\\end{aligned}\n",
        "$$\n",
        "\n",
        "Para resolver este problema con una computadora cuántica, vamos a expresar la función de costo como el valor esperado de un observable. Sin embargo, los observables que Qiskit admite de forma nativa consisten en operadores de Pauli, que tienen valores propios $1$ y $-1$ en lugar de $0$ y $1$. Por eso vamos a hacer el siguiente cambio de variable:\n",
        "\n",
        "Donde $\\vec{x}=(x_0,x_1,\\cdots,x_{n-1})$. Podemos usar la matriz de adyacencia $w$ para acceder cómodamente a los pesos de todas las aristas. Esto se utilizará para obtener nuestra función de costo:\n",
        "\n",
        "$$\n",
        "z_i = 1-2x_i \\rightarrow x_i = \\frac{1-z_i}{2}\n",
        "$$\n",
        "\n",
        "Esto implica que:\n",
        "\n",
        "$$\n",
        "\\begin{array}{lcl} x_i=0 & \\rightarrow & z_i=1 \\\\ x_i=1 & \\rightarrow & z_i=-1.\\end{array}\n",
        "$$\n",
        "\n",
        "Entonces, la nueva función de costo que queremos maximizar es:\n",
        "\n",
        "$$\n",
        "\\begin{aligned}\n",
        "C(\\vec{z})\n",
        "& = \\sum_{i,j=0}^n w_{ij} \\bigg(\\frac{1-z_i}{2}\\bigg)\\bigg(1-\\frac{1-z_j}{2}\\bigg)\\\\[1mm]\n",
        "\n",
        "& = \\sum_{i,j=0}^n \\frac{w_{ij}}{4} - \\sum_{i,j=0}^n \\frac{w_{ij}}{4} z_iz_j\\\\[1mm]\n",
        "\n",
        "& = \\sum_{i=0}^n \\sum_{j=0}^i \\frac{w_{ij}}{2} -  \\sum_{i=0}^n \\sum_{j=0}^i \\frac{w_{ij}}{2} z_iz_j\n",
        "\\end{aligned}\n",
        "$$\n",
        "\n",
        "Además, la tendencia natural de una computadora cuántica es encontrar mínimos (generalmente la energía más baja) en lugar de máximos, por lo que en lugar de maximizar $C(\\vec{z})$ vamos a minimizar:\n",
        "\n",
        "$$\n",
        "-C(\\vec{z}) =  \\sum_{i=0}^n \\sum_{j=0}^i \\frac{w_{ij}}{2} z_iz_j -  \\sum_{i=0}^n \\sum_{j=0}^i \\frac{w_{ij}}{2}\n",
        "$$\n",
        "\n",
        "Ahora que tenemos una función de costo a minimizar cuyas variables pueden tener los valores $-1$ y $1$, podemos hacer la siguiente analogía con la Pauli $Z$:\n",
        "\n",
        "$$\n",
        "z_i \\equiv Z_i = \\overbrace{I}^{n-1}\\otimes ... \\otimes \\overbrace{Z}^{i} \\otimes ... \\otimes \\overbrace{I}^{0}\n",
        "$$\n",
        "\n",
        "En otras palabras, la variable $z_i$ será equivalente a una puerta $Z$ actuando sobre el qubit $i$. Además:\n",
        "\n",
        "$$\n",
        "Z_i|x_{n-1}\\cdots x_0\\rangle = z_i|x_{n-1}\\cdots x_0\\rangle \\rightarrow \\langle x_{n-1}\\cdots x_0 |Z_i|x_{n-1}\\cdots x_0\\rangle = z_i\n",
        "$$\n",
        "\n",
        "Entonces el observable que vamos a considerar es:\n",
        "\n",
        "$$\n",
        "\\hat{H} = \\sum_{i=0}^n \\sum_{j=0}^i \\frac{w_{ij}}{2} Z_iZ_j\n",
        "$$\n",
        "\n",
        "a lo que tendremos que añadir después el término independiente:\n",
        "\n",
        "$$\n",
        "\\texttt{offset} = - \\sum_{i=0}^n \\sum_{j=0}^i \\frac{w_{ij}}{2}\n",
        "$$\n",
        "\n",
        "Esta transformación se puede hacer con [`QuadraticProgram.to_ising()`](https://qiskit.org/documentation/optimization/stubs/qiskit_optimization.QuadraticProgram.to_ising.html) ."
      ]
    },
    {
      "cell_type": "code",
      "execution_count": null,
      "metadata": {
      },
      "outputs": [

      ],
      "source": [
        "observable, offset = quadratic_program.to_ising()\n",
        "print(\"Offset:\", offset)\n",
        "print(\"Ising Hamiltonian:\")\n",
        "print(str(observable))"
      ]
    },
    {
      "attachments": {
      },
      "cell_type": "markdown",
      "metadata": {
      },
      "source": [
        "Podemos usar una instancia de VQE para encontrar los parámetros óptimos de la siguiente manera:"
      ]
    },
    {
      "cell_type": "code",
      "execution_count": null,
      "metadata": {
      },
      "outputs": [

      ],
      "source": [
        "from qiskit.primitives import Estimator\n",
        "from qiskit.algorithms.minimum_eigensolvers import VQE\n",
        "from qiskit.algorithms.optimizers import COBYLA\n",
        "from qiskit.circuit.library import TwoLocal\n",
        "import numpy as np\n",
        "\n",
        "ansatz = TwoLocal(observable.num_qubits, \"rx\", reps=1)\n",
        "optimizer = COBYLA()\n",
        "\n",
        "vqe = VQE(\n",
        "    estimator=Estimator(),\n",
        "    ansatz=ansatz,\n",
        "    optimizer=optimizer,\n",
        "    initial_point=np.zeros(ansatz.num_parameters),\n",
        ")\n",
        "\n",
        "result = vqe.compute_minimum_eigenvalue(observable)\n",
        "\n",
        "print(result)"
      ]
    },
    {
      "cell_type": "code",
      "execution_count": null,
      "metadata": {
      },
      "outputs": [

      ],
      "source": [
        "from qiskit.quantum_info import Statevector\n",
        "\n",
        "optimal_circuit = result.optimal_circuit.bind_parameters(result.optimal_parameters)\n",
        "\n",
        "x = max_cut.sample_most_likely(Statevector(optimal_circuit))\n",
        "print(\"energy:\", result.eigenvalue.real)\n",
        "print(\"time:\", result.optimizer_time)\n",
        "print(\"max-cut objective:\", result.eigenvalue.real + offset)\n",
        "print(\"solution:\", x)\n",
        "print(\"solution objective:\", quadratic_program.objective.evaluate(x))\n",
        "\n",
        "# plot results\n",
        "colors = [\"red\" if x[i] == 0 else \"orange\" for i in range(n)]\n",
        "draw_graph(G, colors)"
      ]
    },
    {
      "attachments": {
      },
      "cell_type": "markdown",
      "metadata": {
      },
      "source": [
        "Con esta lección, has aprendido:\n",
        "\n",
        "- Cómo escribir un algoritmo variacional personalizado\n",
        "- Cómo aplicar un algoritmo variacional para encontrar valores propios mínimos\n",
        "- Cómo utilizar algoritmos variacionales para resolver casos de uso de aplicaciones\n",
        "\n",
        "¡Continúe con la lección final para realizar su evaluación y ganar su insignia!"
      ]
    }
  ],
  "metadata": {
    "kernelspec": {
      "display_name": "Python 3",
      "language": "python",
      "name": "python3"
    },
    "language_info": {
      "codemirror_mode": {
        "name": "ipython",
        "version": 3
      },
      "file_extension": ".py",
      "mimetype": "text/x-python",
      "name": "python",
      "nbconvert_exporter": "python",
      "pygments_lexer": "ipython3",
      "version": "3.9"
    }
  },
  "nbformat": 4,
  "nbformat_minor": 2
}
